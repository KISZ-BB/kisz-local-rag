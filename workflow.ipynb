{
 "cells": [
  {
   "cell_type": "markdown",
   "metadata": {},
   "source": [
    " # Workshop Outline\n",
    " # Local RAG System\n",
    "\n",
    " <img src=\"images/ragflowchart.png\" width=\"700\" />\n",
    "\n",
    " ## • Embedding of text\n",
    " - Read/Load Document (txt, pdf, etc.)\n",
    " - Split text into chunks considering embedding limit and basic context\n",
    " - Encode text into vector\n",
    " - Find Similarity\n",
    " &nbsp;\n",
    " <br/>\n",
    " ## &bull; Vector store\n",
    " - Using a Vector Database\n",
    " - Make a collection\n",
    " - Query collection. Find related text.\n",
    " ## &bull; Query LLM with contextual data\n",
    " -----------------------------------------------------------------------------\n",
    " ## Hands on...\n",
    " #### &bull; **Embedding of text**"
   ]
  },
  {
   "cell_type": "code",
   "execution_count": null,
   "metadata": {},
   "outputs": [],
   "source": [
    "# Load Embedding model\n",
    "# https://www.sbert.net/\n",
    "# pip3 install sentence-transformers\n",
    "\n",
    "from sentence_transformers import SentenceTransformer\n",
    "\n",
    "EMBEDDING_MODEL = \"all-MiniLM-L6-v2\"\n",
    "model = SentenceTransformer(EMBEDDING_MODEL)\n"
   ]
  },
  {
   "cell_type": "code",
   "execution_count": null,
   "metadata": {},
   "outputs": [],
   "source": [
    "\n",
    "texts = [\n",
    "    \"Bali's beautiful beaches and rich culture stands out as a fantastic travel destination.\",\n",
    "    \"Pizza in Rome is famous for its thin crust, fresh ingredients and wood-fired ovens.\",\n",
    "    \"Graphics processing units (GPU) have become an essential foundation for artificial intelligence.\",\n",
    "    \"Newton's laws of motion transformed our understanding of physics.\",\n",
    "    \"The French Revolution played a crucial role in shaping contemporary France.\",\n",
    "    \"Maintaining good health requires regular exercise, balanced diet and quality sleep.\",\n",
    "    \"Dali's surrealistic artworks, like 'The Persistence of Memory,' captivate audiences with their dreamlike imagery and imaginative brilliance\",\n",
    "    \"Global warming threatens the planet's ecosystems and wildlife.\",\n",
    "    \"The KI-Servicezentrum Berlin-Brandenburg offers services such as consulting, workshops, MOOCs and computer resources.\",\n",
    "    \"Django Reinhardt's jazz compositions are celebrated for their captivating melodies and innovative guitar work..\",\n",
    "]\n"
   ]
  },
  {
   "cell_type": "code",
   "execution_count": null,
   "metadata": {},
   "outputs": [],
   "source": [
    "# Encode texts\n",
    "\n",
    "text_embeddings = model.encode(texts)\n",
    "\n",
    "print(\"Embeddings type:\", type(text_embeddings))\n",
    "print(\"Embeddings Matrix shape:\", text_embeddings.shape)\n",
    "\n",
    "# Note: \"all-MiniLM-L6-v2\" encodes texts up to 256 words. It’ll truncate any text longer than this.\n",
    "# https://huggingface.co/sentence-transformers/all-MiniLM-L6-v2\n"
   ]
  },
  {
   "cell_type": "markdown",
   "metadata": {},
   "source": [
    " #### &bull; **Check Similarity**"
   ]
  },
  {
   "cell_type": "code",
   "execution_count": null,
   "metadata": {},
   "outputs": [],
   "source": [
    "# Storing Embeddings in a simple dict\n",
    "\n",
    "text_embs_dict = dict(zip(texts, list(text_embeddings)))\n",
    "# key: text, value: numpy array with embedding\n"
   ]
  },
  {
   "cell_type": "code",
   "execution_count": null,
   "metadata": {},
   "outputs": [],
   "source": [
    "# Define similarity metric\n",
    "\n",
    "from numpy import dot\n",
    "from numpy.linalg import norm\n",
    "\n",
    "\n",
    "def cos_sim(x, y):\n",
    "    return dot(x, y) / (norm(x) * norm(y))\n",
    "\n"
   ]
  },
  {
   "cell_type": "code",
   "execution_count": null,
   "metadata": {},
   "outputs": [],
   "source": [
    "# Check similarities\n",
    "\n",
    "test_text = \"I really need some vacations\"\n",
    "emb_test_text = model.encode(test_text)\n",
    "\n",
    "print(f\"\\nCosine similarities for: '{test_text}'\\n\")\n",
    "for k, v in text_embs_dict.items():\n",
    "    print(k, round(cos_sim(emb_test_text, v), 3))\n"
   ]
  },
  {
   "cell_type": "markdown",
   "metadata": {},
   "source": [
    " #### &bull; **Using a Vector Database**"
   ]
  },
  {
   "cell_type": "code",
   "execution_count": null,
   "metadata": {},
   "outputs": [],
   "source": [
    "\n",
    "import chromadb\n",
    "from chromadb.utils import embedding_functions\n",
    "\n",
    "client = chromadb.Client()\n",
    "# client = chromadb.PersistentClient(path=\"chroma_data/\")\n",
    "# For a ChromaDB instance on the disk\n",
    "\n",
    "embedding_func = embedding_functions.SentenceTransformerEmbeddingFunction(\n",
    "    model_name=EMBEDDING_MODEL\n",
    ")\n"
   ]
  },
  {
   "cell_type": "code",
   "execution_count": null,
   "metadata": {},
   "outputs": [],
   "source": [
    "# Init collection\n",
    "\n",
    "COLLECTION_NAME = \"demo_docs\"\n",
    "\n",
    "collection = client.create_collection(\n",
    "    name=COLLECTION_NAME,\n",
    "    embedding_function=embedding_func,\n",
    "    metadata={\"hnsw:space\": \"cosine\"},\n",
    ")\n"
   ]
  },
  {
   "cell_type": "code",
   "execution_count": null,
   "metadata": {},
   "outputs": [],
   "source": [
    "# Create collection\n",
    "# (Adding metadata. Optional)\n",
    "\n",
    "topics = [\n",
    "    \"travel\",\n",
    "    \"food\",\n",
    "    \"technology\",\n",
    "    \"science\",\n",
    "    \"history\",\n",
    "    \"health\",\n",
    "    \"painting\",\n",
    "    \"climate change\",\n",
    "    \"business\",\n",
    "    \"music\",\n",
    "]\n",
    "\n",
    "collection.add(\n",
    "    documents=texts,\n",
    "    ids=[f\"id{i}\" for i in range(len(texts))],\n",
    "    metadatas=[{\"topic\": topic} for topic in topics],\n",
    ")\n"
   ]
  },
  {
   "cell_type": "code",
   "execution_count": null,
   "metadata": {},
   "outputs": [],
   "source": [
    "# Quering the Database\n",
    "\n",
    "query1 = \"I am looking for something to eat\"\n",
    "query2 = \"What's going on in the world?\"\n",
    "query3 = \"Great jazz player\"\n",
    "\n",
    "queries = [query1, query2, query3]\n",
    "\n",
    "query_results = collection.query(\n",
    "    query_texts=queries,  # list of strings or just one element (string)\n",
    "    n_results=2,\n",
    ")\n",
    "print(\"Query dict keys:\")\n",
    "print(query_results.keys())\n",
    "\n",
    "for i in range(len(queries)):\n",
    "    print(\"\\nQuery:\", queries[i])\n",
    "\n",
    "    print(\"\\nResults:\")\n",
    "    for j in range(len(query_results[\"ids\"][i])):\n",
    "        print(\"id:\", query_results[\"ids\"][i][j])\n",
    "        print(\"Text:\", query_results[\"documents\"][i][j])\n",
    "        print(f\"Distance:\", round(query_results[\"distances\"][i][j], 2))\n",
    "        print(\"Metadata:\", query_results[\"metadatas\"][i][j])\n",
    "\n",
    "    print(80 * \"-\")\n"
   ]
  },
  {
   "cell_type": "markdown",
   "metadata": {},
   "source": [
    " #### &bull; **Running a Large Language Model locally with Ollama**"
   ]
  },
  {
   "cell_type": "code",
   "execution_count": null,
   "metadata": {},
   "outputs": [],
   "source": [
    "\n",
    "import requests, json\n",
    "\n",
    "# $ ollama serve\n",
    "BASEURL = f\"http://localhost:11434/api\"\n",
    "MODEL = 'mistral'\n",
    "\n",
    "\n",
    "def generate(prompt, context=[], top_k=5, top_p=0.9, temp=0.5):\n",
    "    url = BASEURL + \"/generate\"\n",
    "    data = {\n",
    "        \"prompt\": prompt,\n",
    "        \"model\": MODEL,\n",
    "        \"stream\": False,\n",
    "        \"context\": context,\n",
    "        \"options\": {\"temperature\": temp, \"top_p\": top_p, \"top_k\": top_k},\n",
    "    }\n",
    "\n",
    "    try:\n",
    "        r = requests.post(url, json=data)\n",
    "        response_dic = json.loads(r.text)\n",
    "        return response_dic.get('response', ''), response_dic.get('context', '')\n",
    "\n",
    "    except Exception as e:\n",
    "        print(e)\n",
    "\n"
   ]
  },
  {
   "cell_type": "code",
   "execution_count": null,
   "metadata": {},
   "outputs": [],
   "source": [
    "\n",
    "llm_response, _ = generate(\"Hi, who are you\", top_k=10, top_p=0.9, temp=0.5)\n",
    "print(llm_response)\n"
   ]
  },
  {
   "cell_type": "markdown",
   "metadata": {},
   "source": [
    " #### &bull; **Make a simple local LLM chatbot**"
   ]
  },
  {
   "cell_type": "code",
   "execution_count": null,
   "metadata": {},
   "outputs": [],
   "source": [
    "user_input = \"Hi. who are you?\"\n",
    "ollama_context = []\n",
    "print(f\"Start chatting with {MODEL} model (Press q to quit)\\n\")\n",
    "while user_input != \"q\":\n",
    "    print(\"Context length:\", len(ollama_context))\n",
    "    bot_response, ollama_context = generate(\n",
    "        user_input, context=ollama_context, top_k=10, top_p=0.9, temp=0.5\n",
    "    )\n",
    "    print(\"Model message:\")\n",
    "    print(bot_response)\n",
    "    user_input = input(\"\\nYour prompt: \")\n"
   ]
  },
  {
   "cell_type": "markdown",
   "metadata": {},
   "source": [
    " -----------------------------------------------------------------------------\n",
    " ## Integration\n",
    " #### **Integrate the components for a RAG System:**\n",
    " #### &bull; **Text embedding: Sentence Bert**\n",
    " https://www.sbert.net/\n",
    " #### &bull; **Vector Database: ChromaDB**\n",
    " https://docs.trychroma.com/\n",
    " #### &bull; **Local LLM: ollama**\n",
    " https://ollama.ai/\n",
    " #### &bull; **Frontend: Gradio**\n",
    " https://www.gradio.app/"
   ]
  }
 ],
 "metadata": {
  "kernelspec": {
   "display_name": "myvenv",
   "language": "python",
   "name": "python3"
  },
  "language_info": {
   "codemirror_mode": {
    "name": "ipython",
    "version": 3
   },
   "file_extension": ".py",
   "mimetype": "text/x-python",
   "name": "python",
   "nbconvert_exporter": "python",
   "pygments_lexer": "ipython3",
   "version": "3.11.4"
  }
 },
 "nbformat": 4,
 "nbformat_minor": 2
}
